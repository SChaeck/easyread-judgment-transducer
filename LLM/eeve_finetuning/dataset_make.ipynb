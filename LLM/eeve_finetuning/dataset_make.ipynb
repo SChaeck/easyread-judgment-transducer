{
 "cells": [
  {
   "cell_type": "markdown",
   "metadata": {},
   "source": [
    "## 데이터셋의 평균 길이 확인\n",
    "### 입력: 폴더 경로"
   ]
  },
  {
   "cell_type": "code",
   "execution_count": 12,
   "metadata": {},
   "outputs": [
    {
     "name": "stdout",
     "output_type": "stream",
     "text": [
      "Number of JSONL files processed: 4\n",
      "Number of text entries: 1208862\n",
      "Maximum text length: 4000\n",
      "Average text length: 961.99\n"
     ]
    }
   ],
   "source": [
    "import os\n",
    "import json\n",
    "\n",
    "def process_jsonl_files(folder_path):\n",
    "    text_lengths = []\n",
    "    file_count = 0\n",
    "    \n",
    "    # 특정 폴더 내의 모든 파일을 순회\n",
    "    for filename in os.listdir(folder_path):\n",
    "        if filename.endswith('.jsonl'):\n",
    "            file_count += 1\n",
    "            file_path = os.path.join(folder_path, filename)\n",
    "            \n",
    "            with open(file_path, 'r', encoding='utf-8') as file:\n",
    "                for line in file:\n",
    "                    data = json.loads(line)\n",
    "                    if 'text' in data:\n",
    "                        text_length = len(data['text'])\n",
    "                        text_lengths.append(text_length)\n",
    "    \n",
    "    if not text_lengths:\n",
    "        print(\"No text data found in the JSONL files.\")\n",
    "        return\n",
    "    \n",
    "    # 최대 길이\n",
    "    max_length = max(text_lengths)\n",
    "    # 평균 길이\n",
    "    average_length = sum(text_lengths) / len(text_lengths)\n",
    "    # 데이터의 개수\n",
    "    data_count = len(text_lengths)\n",
    "    \n",
    "    print(f\"Number of JSONL files processed: {file_count}\")\n",
    "    print(f\"Number of text entries: {data_count}\")\n",
    "    print(f\"Maximum text length: {max_length}\")\n",
    "    print(f\"Average text length: {average_length:.2f}\")\n",
    "\n",
    "# 사용할 폴더 경로를 입력하세요\n",
    "folder_path = '../../data/processing_data'\n",
    "process_jsonl_files(folder_path)\n"
   ]
  },
  {
   "cell_type": "markdown",
   "metadata": {},
   "source": [
    "## 데이터셋의 최대 길이 제한\n",
    "### 입력: 파일 경로"
   ]
  },
  {
   "cell_type": "code",
   "execution_count": 6,
   "metadata": {},
   "outputs": [],
   "source": [
    "import os\n",
    "import json\n",
    "\n",
    "def truncate_text_in_jsonl(file_path, output_path, max_length=4000):\n",
    "    truncated_data = []\n",
    "    \n",
    "    with open(file_path, 'r', encoding='utf-8') as file:\n",
    "        for line in file:\n",
    "            data = json.loads(line)\n",
    "            if 'text' in data:\n",
    "                if len(data['text']) > max_length:\n",
    "                    data['text'] = data['text'][:max_length]\n",
    "            truncated_data.append(data)\n",
    "    \n",
    "    with open(output_path, 'w', encoding='utf-8') as file:\n",
    "        for data in truncated_data:\n",
    "            file.write(json.dumps(data, ensure_ascii=False) + '\\n')\n",
    "\n",
    "# 사용할 파일 경로와 출력 파일 경로를 입력하세요\n",
    "input_file_path = '../../data/processing_data/korean-data.jsonl'\n",
    "output_file_path = '../../data/processing_data/target/truncated-korean-data.jsonl'\n",
    "\n",
    "truncate_text_in_jsonl(input_file_path, output_file_path)\n"
   ]
  },
  {
   "cell_type": "markdown",
   "metadata": {},
   "source": [
    "## 1차 파인튜닝용 데이터셋 제작\n",
    "### 구성:\n",
    "1. easyread-judgment-instruct-data\n",
    "2. easyword-instruct-data\n",
    "3. law-terminology-instruct-data\n",
    "4. truncated-korean-data"
   ]
  },
  {
   "cell_type": "code",
   "execution_count": 16,
   "metadata": {},
   "outputs": [],
   "source": [
    "import os\n",
    "import json\n",
    "import random\n",
    "\n",
    "def load_jsonl_files_from_folder(folder_path):\n",
    "    jsonl_data = []\n",
    "    \n",
    "    # 폴더 내의 모든 파일 리스트를 얻기\n",
    "    files = os.listdir(folder_path)\n",
    "    \n",
    "    # jsonl 파일만 선택\n",
    "    jsonl_files = [f for f in files if f.endswith('.jsonl')]\n",
    "    \n",
    "    # 각 jsonl 파일 읽기\n",
    "    for file_name in jsonl_files:\n",
    "        file_path = os.path.join(folder_path, file_name)\n",
    "        with open(file_path, 'r', encoding='utf-8') as file:\n",
    "            for line in file:\n",
    "                jsonl_data.append(json.loads(line))\n",
    "    \n",
    "    return jsonl_data\n",
    "\n",
    "def save_jsonl_file(data, output_path):\n",
    "    with open(output_path, 'w', encoding='utf-8') as file:\n",
    "        for item in data:\n",
    "            file.write(json.dumps(item, ensure_ascii=False) + '\\n')\n",
    "\n",
    "def main(folder_path, output_file):\n",
    "    # 폴더 내의 jsonl 파일들 읽기\n",
    "    jsonl_data = load_jsonl_files_from_folder(folder_path)\n",
    "    \n",
    "    # 데이터 랜덤으로 섞기\n",
    "    random.shuffle(jsonl_data)\n",
    "    \n",
    "    # 결과 저장\n",
    "    save_jsonl_file(jsonl_data, output_file)\n",
    "\n",
    "if __name__ == \"__main__\":\n",
    "    folder_path = '../../data/processing_data/target'  # jsonl 파일들이 있는 폴더 경로\n",
    "    output_file = '../../data/eeve_finetuning_data/primary_dataset_nk_ngpt.jsonl'  # 결과를 저장할 파일 경로\n",
    "    main(folder_path, output_file)\n"
   ]
  },
  {
   "cell_type": "markdown",
   "metadata": {},
   "source": [
    "## 2차 파인튜닝용 데이터셋 제작\n",
    "### 구성:\n",
    "1. easyread-judgment-instruct-data: 90%\n",
    "3. law-terminology-insturct-data: 10%"
   ]
  },
  {
   "cell_type": "code",
   "execution_count": 4,
   "metadata": {},
   "outputs": [
    {
     "name": "stdout",
     "output_type": "stream",
     "text": [
      "총 데이터 개수: 240000\n"
     ]
    }
   ],
   "source": [
    "import os\n",
    "import json\n",
    "import random\n",
    "\n",
    "def load_limited_data_from_jsonl(file_path, limit):\n",
    "    data = []\n",
    "    with open(file_path, 'r', encoding='utf-8') as file:\n",
    "        for i, line in enumerate(file):\n",
    "            if i >= limit:\n",
    "                break\n",
    "            data.append(json.loads(line))\n",
    "    return data\n",
    "\n",
    "def load_limited_jsonl_files_from_folder(folder_path, file_limits):\n",
    "    jsonl_data = []\n",
    "    \n",
    "    # 폴더 내의 모든 파일 리스트를 얻기\n",
    "    files = os.listdir(folder_path)\n",
    "    \n",
    "    # jsonl 파일만 선택\n",
    "    jsonl_files = [f for f in files if f.endswith('.jsonl')]\n",
    "    \n",
    "    # 각 jsonl 파일에서 제한된 개수의 데이터 읽기\n",
    "    for file_name in jsonl_files:\n",
    "        if file_name in file_limits:\n",
    "            file_path = os.path.join(folder_path, file_name)\n",
    "            limit = file_limits[file_name]\n",
    "            jsonl_data.extend(load_limited_data_from_jsonl(file_path, limit))\n",
    "    \n",
    "    return jsonl_data\n",
    "\n",
    "def save_jsonl_file(data, output_path):\n",
    "    with open(output_path, 'w', encoding='utf-8') as file:\n",
    "        for item in data:\n",
    "            file.write(json.dumps(item, ensure_ascii=False) + '\\n')\n",
    "\n",
    "def main(folder_path, output_file, file_limits):\n",
    "    # 폴더 내의 jsonl 파일들에서 제한된 개수만큼 데이터 읽기\n",
    "    jsonl_data = load_limited_jsonl_files_from_folder(folder_path, file_limits)\n",
    "    \n",
    "    # 전체 데이터 개수 출력\n",
    "    print(f\"총 데이터 개수: {len(jsonl_data)}\")\n",
    "    \n",
    "    # 데이터 랜덤으로 섞기\n",
    "    random.shuffle(jsonl_data)\n",
    "    \n",
    "    # 결과 저장\n",
    "    save_jsonl_file(jsonl_data, output_file)\n",
    "\n",
    "if __name__ == \"__main__\":\n",
    "    folder_path = '../../data/processing_data/target'  # jsonl 파일들이 있는 폴더 경로\n",
    "    output_file = '../../data/finetuning_data/secondary_dataset.jsonl'  # 결과를 저장할 파일 경로\n",
    "    file_limits = {\n",
    "        'easyread-judgment-instruct-data.jsonl': 216000,   # file1.jsonl에서 50개의 데이터\n",
    "        'not-shuffle-law-terminology-instruct-data.jsonl': 24000,  # file2.jsonl에서 100개의 데이터\n",
    "        # 파일 이름과 해당 파일에서 가져올 데이터 개수를 추가\n",
    "    }\n",
    "    main(folder_path, output_file, file_limits)"
   ]
  },
  {
   "cell_type": "markdown",
   "metadata": {},
   "source": [
    "## 데이터셋 허깅페이스 업로드"
   ]
  },
  {
   "cell_type": "code",
   "execution_count": 7,
   "metadata": {},
   "outputs": [],
   "source": [
    "from dotenv import load_dotenv\n",
    "import os\n",
    "\n",
    "load_dotenv()\n",
    "token = os.getenv(\"HUGGINGFACE_WRITE_TOKEN\")"
   ]
  },
  {
   "cell_type": "code",
   "execution_count": 17,
   "metadata": {},
   "outputs": [
    {
     "name": "stderr",
     "output_type": "stream",
     "text": [
      "Generating train split: 508379 examples [00:02, 205812.71 examples/s]\n",
      "Creating parquet from Arrow format: 100%|██████████| 128/128 [00:01<00:00, 93.67ba/s]\n",
      "Creating parquet from Arrow format: 100%|██████████| 128/128 [00:01<00:00, 97.85ba/s]\n",
      "Creating parquet from Arrow format: 100%|██████████| 128/128 [00:01<00:00, 97.07ba/s]\n",
      "Creating parquet from Arrow format: 100%|██████████| 128/128 [00:01<00:00, 98.75ba/s] \n",
      "Uploading the dataset shards: 100%|██████████| 4/4 [01:29<00:00, 22.30s/it]\n"
     ]
    },
    {
     "data": {
      "text/plain": [
       "CommitInfo(commit_url='https://huggingface.co/datasets/Suchae/judgment-transducer-primary-dataset-nk-ngpt/commit/d9de48b695246367dea50a5eea21f398a1a0a6fa', commit_message='Upload dataset', commit_description='', oid='d9de48b695246367dea50a5eea21f398a1a0a6fa', pr_url=None, pr_revision=None, pr_num=None)"
      ]
     },
     "execution_count": 17,
     "metadata": {},
     "output_type": "execute_result"
    }
   ],
   "source": [
    "from datasets import load_dataset, concatenate_datasets\n",
    "\n",
    "dataset1 = load_dataset(\"json\", data_files=\"../../data/eeve_finetuning_data/primary_dataset_nk_ngpt.jsonl\")\n",
    "# dataset2 = load_dataset(\"json\", data_files=\"../../data/eeve_finetuning_data/secondary_dataset.jsonl\")\n",
    "\n",
    "dataset1.push_to_hub(\"judgment-transducer-primary-dataset-nk-ngpt\")\n",
    "# dataset2.push_to_hub(\"judgment-transducer-secondary-dataset\")"
   ]
  }
 ],
 "metadata": {
  "kernelspec": {
   "display_name": "easyread",
   "language": "python",
   "name": "python3"
  },
  "language_info": {
   "codemirror_mode": {
    "name": "ipython",
    "version": 3
   },
   "file_extension": ".py",
   "mimetype": "text/x-python",
   "name": "python",
   "nbconvert_exporter": "python",
   "pygments_lexer": "ipython3",
   "version": "3.12.4"
  }
 },
 "nbformat": 4,
 "nbformat_minor": 2
}
