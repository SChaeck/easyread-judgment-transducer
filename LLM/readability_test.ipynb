{
 "cells": [
  {
   "cell_type": "code",
   "execution_count": 11,
   "metadata": {},
   "outputs": [
    {
     "name": "stdout",
     "output_type": "stream",
     "text": [
      "Original syntactic complexity: 9.0, Simplified: 7.0\n"
     ]
    }
   ],
   "source": [
    "### 구분복잡성 지수\n",
    "\n",
    "from konlpy.tag import Kkma\n",
    "from konlpy.tag import Komoran\n",
    "\n",
    "# KoNLPy의 형태소 분석기 로드\n",
    "kkma = Kkma()\n",
    "komoran = Komoran()\n",
    "\n",
    "def syntactic_complexity_korean(text):\n",
    "    sentences = kkma.sentences(text)  # 텍스트를 문장으로 분리합니다.\n",
    "    num_sentences = len(sentences)\n",
    "    \n",
    "    num_clauses = 0\n",
    "    for sentence in sentences:\n",
    "        morphemes = komoran.pos(sentence)  # 문장을 형태소 분석합니다.\n",
    "        num_clauses += sum(1 for word, tag in morphemes if tag in ['VV', 'VA'])  # 동사나 형용사를 종속 절로 간주합니다.\n",
    "    \n",
    "    return num_clauses / num_sentences if num_sentences > 0 else 0\n",
    "\n",
    "\n",
    "original_text = '''【판시사항】\n",
    "[1] 토지임차인의 지상물매수청구권을 배제하는 약정의 효력\n",
    "[2] 임차기간이 만료되기 전에 임차권자가 제3자에게 임차기간의 만료를 조건으로 지상물매수청구권을 양도한 경우, 임차기간 만료 후 제3자가 토지 소유자에 대하여 직접 지상물매수청구권을 행사하기 위한 요건【판결요지】\n",
    "[1]건물의 소유를 목적으로 한 토지의 임차인이 임대차계약을 체결할 당시 임대인과 사이에 건물 기타 지상시설 일체를 포기하기로 약정하였다 하더라도 임대차계약의 조건이나 계약이 체결된 경위 등 제반사정을 종합적으로 고려하여 실질적으로 임차인에게 불리하다고 볼 수 없는 특별한 사정이 인정되지 않는 한 위와 같은 약정은 민법 제643조소정의 토지임차인의 지상물매수청구권을 배제하기로 하는 약정으로서 임차인에게 불리한 것이므로 민법 제652조의 규정에 위반되어 그 효력이 없다.'''\n",
    "simplified_text = \"[1] 땅을 빌린 사람이 건물을 짓기 위해 땅을 빌릴 때, 땅 주인과 건물이나 다른 시설을 포기하기로 약속했더라도, 그 약속이 땅을 빌린 사람에게 불리하지 않다는 특별한 이유가 없다면, 그 약속은 법에 어긋나서 효력이 없다. [2] 만약 땅을 빌린 사람이 임대 기간이 끝나기 전에 다른 사람에게 그 권리를 넘겼다면, 임대 기간이 끝난 후 그 다른 사람이 땅 주인에게 직접 물건을 사달라고 요구하기 위해서는 특별한 조건이 필요하다.\"\n",
    "\n",
    "original_syntactic_complexity = syntactic_complexity_korean(original_text)\n",
    "simplified_syntactic_complexity = syntactic_complexity_korean(simplified_text)\n",
    "\n",
    "print(f\"Original syntactic complexity: {original_syntactic_complexity}, Simplified: {simplified_syntactic_complexity}\")\n"
   ]
  },
  {
   "cell_type": "code",
   "execution_count": 17,
   "metadata": {},
   "outputs": [
    {
     "name": "stdout",
     "output_type": "stream",
     "text": [
      "텍스트 1:\n",
      "ASL (문장당 평균 단어 수): 92.5\n",
      "복잡한 단어 비율: 11.351351351351353%\n",
      "Gunning Fog Index (FOG): 41.54054054054055\n",
      "LENGTH: 5.220355825078324\n",
      "\n",
      "텍스트 2:\n",
      "ASL (문장당 평균 단어 수): 34.333333333333336\n",
      "복잡한 단어 비율: 11.650485436893204%\n",
      "Gunning Fog Index (FOG): 18.393527508090617\n",
      "LENGTH: 4.634728988229636\n"
     ]
    }
   ],
   "source": [
    "import math\n",
    "import re\n",
    "from konlpy.tag import Okt\n",
    "\n",
    "text1 = \"\"\"\n",
    "【판시사항】\n",
    "[1] 토지임차인의 지상물매수청구권을 배제하는 약정의 효력\n",
    "[2] 임차기간이 만료되기 전에 임차권자가 제3자에게 임차기간의 만료를 조건으로 지상물매수청구권을 양도한 경우, 임차기간 만료 후 제3자가 토지 소유자에 대하여 직접 지상물매수청구권을 행사하기 위한 요건【판결요지】\n",
    "[1]건물의 소유를 목적으로 한 토지의 임차인이 임대차계약을 체결할 당시 임대인과 사이에 건물 기타 지상시설 일체를 포기하기로 약정하였다 하더라도 임대차계약의 조건이나 계약이 체결된 경위 등 제반사정을 종합적으로 고려하여 실질적으로 임차인에게 불리하다고 볼 수 없는 특별한 사정이 인정되지 않는 한 위와 같은 약정은 민법 제643조소정의 토지임차인의 지상물매수청구권을 배제하기로 하는 약정으로서 임차인에게 불리한 것이므로 민법 제652조의 규정에 위반되어 그 효력이 없다.\"\"\"\n",
    "text2 = \"\"\"\n",
    "[1] 땅을 빌린 사람이 건물을 짓기 위해 땅을 빌릴 때, 땅 주인과 건물이나 다른 시설을 포기하기로 약속했더라도, 그 약속이 땅을 빌린 사람에게 불리하지 않다는 특별한 이유가 없다면, 그 약속은 법에 어긋나서 효력이 없다. [2] 만약 땅을 빌린 사람이 임대 기간이 끝나기 전에 다른 사람에게 그 권리를 넘겼다면, 임대 기간이 끝난 후 그 다른 사람이 땅 주인에게 직접 물건을 사달라고 요구하기 위해서는 특별한 조건이 필요하다.\"\"\"\n",
    "\n",
    "def calculate_fog_and_length(text):\n",
    "    # 한국어 형태소 분석기\n",
    "    okt = Okt()\n",
    "\n",
    "    # 텍스트를 문장 단위로 분리\n",
    "    sentences = re.split(r'[.!?]', text)\n",
    "\n",
    "    # 문장당 평균 단어 수 계산 (ASL)\n",
    "    total_words = 0\n",
    "    total_sentences = len(sentences)\n",
    "    for sentence in sentences:\n",
    "        words = okt.morphs(sentence.strip())\n",
    "        total_words += len(words)\n",
    "\n",
    "    ASL = total_words / total_sentences if total_sentences > 0 else 0\n",
    "\n",
    "    # 복잡한 단어 비율 계산 (3음절 이상의 단어)\n",
    "    complex_words = 0\n",
    "    for word in okt.morphs(text):\n",
    "        if len(word) >= 3:\n",
    "            complex_words += 1\n",
    "\n",
    "    percentage_of_complex_words = (complex_words / total_words) * 100 if total_words > 0 else 0\n",
    "\n",
    "    # FOG 계산\n",
    "    FOG = (ASL + percentage_of_complex_words) * 0.4\n",
    "\n",
    "    # LENGTH 계산\n",
    "    Word_num = total_words\n",
    "    LENGTH = math.log(Word_num) if Word_num > 0 else 0\n",
    "\n",
    "    return ASL, percentage_of_complex_words, FOG, LENGTH\n",
    "\n",
    "ASL1, complex_words1, FOG1, LENGTH1 = calculate_fog_and_length(text1)\n",
    "print(f\"텍스트 1:\")\n",
    "print(f\"ASL (문장당 평균 단어 수): {ASL1}\")\n",
    "print(f\"복잡한 단어 비율: {complex_words1}%\")\n",
    "print(f\"Gunning Fog Index (FOG): {FOG1}\")\n",
    "print(f\"LENGTH: {LENGTH1}\")\n",
    "\n",
    "ASL2, complex_words2, FOG2, LENGTH2 = calculate_fog_and_length(text2)\n",
    "print(f\"\\n텍스트 2:\")\n",
    "print(f\"ASL (문장당 평균 단어 수): {ASL2}\")\n",
    "print(f\"복잡한 단어 비율: {complex_words2}%\")\n",
    "print(f\"Gunning Fog Index (FOG): {FOG2}\")\n",
    "print(f\"LENGTH: {LENGTH2}\")\n"
   ]
  },
  {
   "cell_type": "code",
   "execution_count": null,
   "metadata": {},
   "outputs": [],
   "source": []
  }
 ],
 "metadata": {
  "kernelspec": {
   "display_name": "django-back",
   "language": "python",
   "name": "python3"
  },
  "language_info": {
   "codemirror_mode": {
    "name": "ipython",
    "version": 3
   },
   "file_extension": ".py",
   "mimetype": "text/x-python",
   "name": "python",
   "nbconvert_exporter": "python",
   "pygments_lexer": "ipython3",
   "version": "3.12.2"
  }
 },
 "nbformat": 4,
 "nbformat_minor": 2
}
