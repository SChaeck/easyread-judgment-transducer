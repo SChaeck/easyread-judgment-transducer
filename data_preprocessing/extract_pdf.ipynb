{
 "cells": [
  {
   "cell_type": "code",
   "execution_count": 46,
   "metadata": {},
   "outputs": [
    {
     "name": "stdout",
     "output_type": "stream",
     "text": [
      "3 table(s) on page 41 of ../data/용어 정비 방법.pdf\n",
      "3 table(s) on page 42 of ../data/용어 정비 방법.pdf\n",
      "3 table(s) on page 43 of ../data/용어 정비 방법.pdf\n",
      "1 table(s) on page 44 of ../data/용어 정비 방법.pdf\n",
      "0 table(s) on page 45 of ../data/용어 정비 방법.pdf\n",
      "Data extracted and saved to ../data/new.csv\n"
     ]
    }
   ],
   "source": [
    "import fitz\n",
    "import pandas as pd\n",
    "\n",
    "pdf_path = '../data/용어 정비 방법.pdf'\n",
    "doc = fitz.open(pdf_path)\n",
    "data = []\n",
    "\n",
    "for page_num in range(41, 46):\n",
    "    page = doc[page_num]\n",
    "    tabs = page.find_tables()\n",
    "    print(f\"{len(tabs.tables)} table(s) on {page}\")\n",
    "    for tab in tabs:\n",
    "        df = tab.to_pandas()\n",
    "        if '대상 용어' in df.columns and '정비안' in df.columns:\n",
    "            df = df[['대상 용어','정비안']]\n",
    "            data.append(df)\n",
    "            \n",
    "combined_df = pd.concat(data, ignore_index=True)\n",
    "csv_path = '../data/new.csv'\n",
    "combined_df.to_csv(csv_path, index=False)\n",
    "\n",
    "print(f\"Data extracted and saved to {csv_path}\")"
   ]
  },
  {
   "cell_type": "code",
   "execution_count": null,
   "metadata": {},
   "outputs": [],
   "source": [
    "import fitz\n",
    "import pandas as pd\n",
    "\n",
    "pdf_path = '../data/정비 권고 용어.pdf'\n",
    "doc = fitz.open(pdf_path)\n",
    "data = []\n",
    "\n",
    "for page_num in range(3, len(doc)):\n",
    "    page = doc[page_num]\n",
    "    tabs = page.find_tables()\n",
    "    for tab in tabs:\n",
    "        df = tab.to_pandas()\n",
    "        if '정비 대상 용어' in df.columns and '권고안' in df.columns:\n",
    "            df = df[['정비 대상 용어','권고안']]\n",
    "            df['권고안'] = df['권고안'].str.replace('◯순', '', regex=False)\n",
    "            data.append(df)\n",
    "            \n",
    "combined_df = pd.concat(data, ignore_index=True)\n",
    "csv_path = '../data/extracted_table2.csv'\n",
    "combined_df.to_csv(csv_path, index=False)\n",
    "\n",
    "print(f\"Data extracted and saved to {csv_path}\")"
   ]
  }
 ],
 "metadata": {
  "kernelspec": {
   "display_name": "django-back",
   "language": "python",
   "name": "python3"
  },
  "language_info": {
   "codemirror_mode": {
    "name": "ipython",
    "version": 3
   },
   "file_extension": ".py",
   "mimetype": "text/x-python",
   "name": "python",
   "nbconvert_exporter": "python",
   "pygments_lexer": "ipython3",
   "version": "undefined.undefined.undefined"
  }
 },
 "nbformat": 4,
 "nbformat_minor": 2
}
