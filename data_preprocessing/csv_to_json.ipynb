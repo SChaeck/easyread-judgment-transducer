{
 "cells": [
  {
   "cell_type": "code",
   "execution_count": 1,
   "metadata": {},
   "outputs": [],
   "source": [
    "import csv\n",
    "import json\n",
    "import random\n",
    "\n",
    "# CSV 파일 읽기\n",
    "input_csv_file = '../data/combined_legal_term.csv'\n",
    "data = []\n",
    "\n",
    "with open(input_csv_file, mode='r', encoding='utf-8') as csvfile:\n",
    "    reader = csv.DictReader(csvfile)\n",
    "    for row in reader:\n",
    "        term = row['name']\n",
    "        recommended_term = row['meaning']\n",
    "        data.append({\"query\": term, \"pos\": [recommended_term], \"neg\": []})\n",
    "\n",
    "# 네거티브 예시 추가\n",
    "all_terms = [item[\"query\"] for item in data]\n",
    "\n",
    "for item in data:\n",
    "    negatives = random.sample(all_terms, min(15, len(all_terms)))  # 최대 15개의 네거티브 예시\n",
    "    negatives = [neg for neg in negatives if neg != item[\"query\"]]\n",
    "    item[\"neg\"] = negatives\n",
    "\n",
    "# JSONL 파일로 저장\n",
    "output_jsonl_file = 'toy_finetune_data.jsonl'\n",
    "\n",
    "with open(output_jsonl_file, mode='w', encoding='utf-8') as jsonlfile:\n",
    "    for item in data:\n",
    "        jsonlfile.write(json.dumps(item, ensure_ascii=False) + '\\n')\n"
   ]
  },
  {
   "cell_type": "code",
   "execution_count": 2,
   "metadata": {},
   "outputs": [],
   "source": [
    "import csv\n",
    "import json\n",
    "import random\n",
    "\n",
    "# CSV 파일 읽기\n",
    "input_csv_file = '../data/combined_legal_term.csv'\n",
    "data = []\n",
    "\n",
    "with open(input_csv_file, mode='r', encoding='utf-8') as csvfile:\n",
    "    reader = csv.DictReader(csvfile)\n",
    "    for row in reader:\n",
    "        term = row['name']\n",
    "        recommended_term = row['meaning']\n",
    "        data.append({\"query\": term, \"pos\": [recommended_term], \"neg\": []})\n",
    "\n",
    "# 네거티브 예시 추가\n",
    "all_pos_terms = [item[\"pos\"][0] for item in data]\n",
    "\n",
    "for item in data:\n",
    "    # 현재 쿼리에 해당하는 긍정 예시를 제외하고 네거티브 예시를 선택\n",
    "    negatives = [neg for neg in all_pos_terms if neg != item[\"pos\"][0]]\n",
    "    item[\"neg\"] = random.sample(negatives, min(7, len(negatives)))  # 최대 1개의 네거티브 예시\n",
    "\n",
    "# JSONL 파일로 저장\n",
    "output_jsonl_file = 'toy_finetune_data.jsonl'\n",
    "\n",
    "with open(output_jsonl_file, mode='w', encoding='utf-8') as jsonlfile:\n",
    "    for item in data:\n",
    "        jsonlfile.write(json.dumps(item, ensure_ascii=False) + '\\n')\n"
   ]
  }
 ],
 "metadata": {
  "kernelspec": {
   "display_name": "django-back",
   "language": "python",
   "name": "python3"
  },
  "language_info": {
   "codemirror_mode": {
    "name": "ipython",
    "version": 3
   },
   "file_extension": ".py",
   "mimetype": "text/x-python",
   "name": "python",
   "nbconvert_exporter": "python",
   "pygments_lexer": "ipython3",
   "version": "undefined.undefined.undefined"
  }
 },
 "nbformat": 4,
 "nbformat_minor": 2
}
