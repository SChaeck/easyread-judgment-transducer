{
 "cells": [
  {
   "cell_type": "code",
   "execution_count": null,
   "metadata": {},
   "outputs": [],
   "source": [
    "# 전처리 안 되어 text2 열이 NaN 인 값이 있는지 확인\n",
    "\n",
    "import pandas as pd\n",
    "\n",
    "data = pd.read_csv(\"../data/299999-400001.csv\")\n",
    "nan_rows = data[data['text2'].isna()] # text2 열에 NaN 값이 있는지 확인\n",
    "\n",
    "print(f\"NaN 값이 있는 행 수: {len(nan_rows)}\")"
   ]
  },
  {
   "cell_type": "code",
   "execution_count": null,
   "metadata": {},
   "outputs": [],
   "source": [
    "# NaN 값 있다면 NaN 값 없는 데이터만 따로 저장\n",
    "\n",
    "data = pd.read_csv(\"../data/140006-160002.csv\")\n",
    "nan_rows = data[data['text2'].isna()]\n",
    "\n",
    "print(f\"NaN 값이 있는 행 수: {len(nan_rows)}\")\n",
    "print(nan_rows) # NaN 값이 있는 행 출력\n",
    "\n",
    "# text2 열이 NaN인 데이터 행 제거\n",
    "cleaned_data = data.dropna(subset=['text2'])\n",
    "\n",
    "# 나머지 데이터만 csv 파일로 저장\n",
    "cleaned_data.to_csv(\"../data/140006-160002_cleaned.csv\", index=False)\n",
    "print(\"NaN 값이 있는 행을 제거한 후 데이터를 '140006-160002_cleaned.csv' 파일로 저장했습니다.\")\n",
    "\n",
    "# NaN 값이 있는 데이터만 csv 파일로 저장\n",
    "nan_rows.to_csv(\"../data/140006-160002_NaN.csv\", index=False)\n",
    "print(\"NaN 값이 있는 데이터를 '140006-160002_NaN.csv' 파일로 저장했습니다.\")"
   ]
  }
 ],
 "metadata": {
  "language_info": {
   "name": "python"
  }
 },
 "nbformat": 4,
 "nbformat_minor": 2
}
