{
 "cells": [
  {
   "cell_type": "code",
   "execution_count": null,
   "metadata": {},
   "outputs": [],
   "source": [
    "from dotenv import load_dotenv\n",
    "\n",
    "load_dotenv()"
   ]
  },
  {
   "cell_type": "code",
   "execution_count": 3,
   "metadata": {},
   "outputs": [],
   "source": [
    "from langchain_core.prompts import PromptTemplate\n",
    "from langchain_openai import OpenAI"
   ]
  },
  {
   "cell_type": "code",
   "execution_count": 18,
   "metadata": {},
   "outputs": [],
   "source": [
    "import csv\n",
    "\n",
    "judgments = []\n",
    "\n",
    "with open('raw_data/judgment.csv', 'r', encoding='utf-8') as f:\n",
    "    csv_judgment = csv.reader(f)\n",
    "\n",
    "    for row in judgment:\n",
    "        judgments.append(row)"
   ]
  },
  {
   "cell_type": "code",
   "execution_count": 19,
   "metadata": {},
   "outputs": [
    {
     "ename": "ValidationError",
     "evalue": "1 validation error for OpenAI\n__root__\n  Did not find openai_api_key, please add an environment variable `OPENAI_API_KEY` which contains it, or pass `openai_api_key` as a named parameter. (type=value_error)",
     "output_type": "error",
     "traceback": [
      "\u001b[1;31m---------------------------------------------------------------------------\u001b[0m",
      "\u001b[1;31mValidationError\u001b[0m                           Traceback (most recent call last)",
      "Cell \u001b[1;32mIn[19], line 16\u001b[0m\n\u001b[0;32m      1\u001b[0m template \u001b[38;5;241m=\u001b[39m \u001b[38;5;124m\"\"\"\u001b[39m\u001b[38;5;124m### System: \u001b[39m\n\u001b[0;32m      2\u001b[0m \u001b[38;5;124m너는 복잡하고 어려운 판결문들을 정보 약자나, 발달장애인이 이해할 수 있도록 변환해주는 쉬운 판결문 변환기야. 아래에 제시되는 판결문을 명령에 따라 쉬운 판결문으로 바꿔줘. \u001b[39m\n\u001b[0;32m      3\u001b[0m \n\u001b[1;32m   (...)\u001b[0m\n\u001b[0;32m     11\u001b[0m \u001b[38;5;124m4. 어려운 점으로 작성된 내용을 다시 최대한 쉽게 변환해줘. 뜻만이 아니라 필요하다면 비유를 사용해도 돼.\u001b[39m\n\u001b[0;32m     12\u001b[0m \u001b[38;5;124m5. 최종적으로, 법률을 모르는 일반인이 어려워 했던 내용을 쉽게 변환해서 전체 내용을 쉬운 판결문으로 변환한 형태를 적어주면 돼. 이때 \u001b[39m\u001b[38;5;124m'\u001b[39m\u001b[38;5;124m-입니다\u001b[39m\u001b[38;5;124m'\u001b[39m\u001b[38;5;124m체를 사용하고 동사 위주의 짧은 문장을 사용해 개조식으로 작성해줘. \u001b[39m\u001b[38;5;124m\"\"\"\u001b[39m\n\u001b[0;32m     14\u001b[0m prompt \u001b[38;5;241m=\u001b[39m PromptTemplate\u001b[38;5;241m.\u001b[39mfrom_template(template)\n\u001b[1;32m---> 16\u001b[0m llm \u001b[38;5;241m=\u001b[39m \u001b[43mOpenAI\u001b[49m\u001b[43m(\u001b[49m\u001b[43mtemperature\u001b[49m\u001b[38;5;241;43m=\u001b[39;49m\u001b[38;5;241;43m0.1\u001b[39;49m\u001b[43m)\u001b[49m\n\u001b[0;32m     18\u001b[0m llm_chain \u001b[38;5;241m=\u001b[39m prompt \u001b[38;5;241m|\u001b[39m llm\n",
      "File \u001b[1;32mc:\\Users\\user\\anaconda3\\envs\\easyread\\Lib\\site-packages\\pydantic\\v1\\main.py:341\u001b[0m, in \u001b[0;36mBaseModel.__init__\u001b[1;34m(__pydantic_self__, **data)\u001b[0m\n\u001b[0;32m    339\u001b[0m values, fields_set, validation_error \u001b[38;5;241m=\u001b[39m validate_model(__pydantic_self__\u001b[38;5;241m.\u001b[39m\u001b[38;5;18m__class__\u001b[39m, data)\n\u001b[0;32m    340\u001b[0m \u001b[38;5;28;01mif\u001b[39;00m validation_error:\n\u001b[1;32m--> 341\u001b[0m     \u001b[38;5;28;01mraise\u001b[39;00m validation_error\n\u001b[0;32m    342\u001b[0m \u001b[38;5;28;01mtry\u001b[39;00m:\n\u001b[0;32m    343\u001b[0m     object_setattr(__pydantic_self__, \u001b[38;5;124m'\u001b[39m\u001b[38;5;124m__dict__\u001b[39m\u001b[38;5;124m'\u001b[39m, values)\n",
      "\u001b[1;31mValidationError\u001b[0m: 1 validation error for OpenAI\n__root__\n  Did not find openai_api_key, please add an environment variable `OPENAI_API_KEY` which contains it, or pass `openai_api_key` as a named parameter. (type=value_error)"
     ]
    }
   ],
   "source": [
    "template = \"\"\"### System: \n",
    "너는 복잡하고 어려운 판결문들을 정보 약자나, 발달장애인이 이해할 수 있도록 변환해주는 쉬운 판결문 변환기야. 아래에 제시되는 판결문을 명령에 따라 쉬운 판결문으로 바꿔줘. \n",
    "\n",
    "### 판결문:\n",
    "{judgment}\n",
    "\n",
    "### 명령:\n",
    "1. 이 판결문이 전하고자 하는 주요한 의미를 모두 나열해줘. \n",
    "2. 그 의미를 바탕으로 법률을 모르는 일반인에게 설명하듯이 아주 쉬운 문장으로 풀어서 작성해줘. 이때 '-입니다'체를 사용하고, 동사 위주의 짧은 문장을 사용해 개조식으로 작성해줘.\n",
    "3. 이후에는 법률을 모르는 일반인의 마음으로 글을 다시 읽어보고 어려운 점을 나열해줘. 특히 일반인의 어휘력으로 어려운 단어를 위주로 알려줘.\n",
    "4. 어려운 점으로 작성된 내용을 다시 최대한 쉽게 변환해줘. 뜻만이 아니라 필요하다면 비유를 사용해도 돼.\n",
    "5. 최종적으로, 법률을 모르는 일반인이 어려워 했던 내용을 쉽게 변환해서 전체 내용을 쉬운 판결문으로 변환한 형태를 적어주면 돼. 이때 '-입니다'체를 사용하고 동사 위주의 짧은 문장을 사용해 개조식으로 작성해줘. \"\"\"\n",
    "\n",
    "prompt = PromptTemplate.from_template(template)\n",
    "\n",
    "llm = OpenAI(temperature=0.1)\n",
    "\n",
    "llm_chain = prompt | llm"
   ]
  },
  {
   "cell_type": "code",
   "execution_count": null,
   "metadata": {},
   "outputs": [],
   "source": [
    "for judgment in judgments[1:]:\n",
    "\n",
    "    llm_chain.invoke(judgment)\n",
    "\n",
    "    # 적당히 output 파싱\n",
    "    # 리스트에 저장\n",
    "    \n",
    "    \n",
    "# 최종 파일 형태로 저장"
   ]
  }
 ],
 "metadata": {
  "kernelspec": {
   "display_name": "easyread",
   "language": "python",
   "name": "python3"
  },
  "language_info": {
   "codemirror_mode": {
    "name": "ipython",
    "version": 3
   },
   "file_extension": ".py",
   "mimetype": "text/x-python",
   "name": "python",
   "nbconvert_exporter": "python",
   "pygments_lexer": "ipython3",
   "version": "3.12.4"
  }
 },
 "nbformat": 4,
 "nbformat_minor": 2
}
