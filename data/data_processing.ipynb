{
 "cells": [
  {
   "cell_type": "markdown",
   "metadata": {},
   "source": [
    "## 1번 데이터 변환"
   ]
  },
  {
   "cell_type": "code",
   "execution_count": 7,
   "metadata": {},
   "outputs": [
    {
     "name": "stderr",
     "output_type": "stream",
     "text": [
      "Writing to JSONL: 100%|██████████| 420755/420755 [00:06<00:00, 63461.46it/s]\n"
     ]
    }
   ],
   "source": [
    "import csv\n",
    "import json\n",
    "import random\n",
    "from tqdm import tqdm\n",
    "\n",
    "# CSV 파일 경로\n",
    "csv_files = ['raw_data/administrative.csv', 'raw_data/news.csv', 'raw_data/technology_science.csv']\n",
    "\n",
    "# JSONL 파일 경로\n",
    "jsonl_file_path = 'processing_data/korean-data.jsonl'\n",
    "\n",
    "# 데이터를 저장할 리스트\n",
    "data = []\n",
    "\n",
    "# CSV 파일에서 데이터 읽기\n",
    "for csv_file_path in csv_files:\n",
    "    with open(csv_file_path, mode='r', encoding='utf-8') as csv_file:\n",
    "        csv_reader = csv.DictReader(csv_file)\n",
    "        for row in csv_reader:\n",
    "            # 각 행을 JSON 형식의 딕셔너리로 변환\n",
    "            data.append({\"text\": row[\"context\"]})\n",
    "\n",
    "# 데이터 무작위로 섞기\n",
    "random.shuffle(data)\n",
    "\n",
    "# JSONL 파일에 데이터를 기록\n",
    "with open(jsonl_file_path, mode='w', encoding='utf-8') as jsonl_file:\n",
    "    # tqdm을 사용하여 진행 상황 표시\n",
    "    for item in tqdm(data, desc=\"Writing to JSONL\"):\n",
    "        json_str = json.dumps(item, ensure_ascii=False)\n",
    "        jsonl_file.write(json_str + '\\n')\n"
   ]
  },
  {
   "cell_type": "markdown",
   "metadata": {},
   "source": [
    "## 1.5번 데이터 변환"
   ]
  },
  {
   "cell_type": "code",
   "execution_count": 9,
   "metadata": {},
   "outputs": [
    {
     "name": "stderr",
     "output_type": "stream",
     "text": [
      "Writing to JSONL: 100%|██████████| 316/316 [00:00<00:00, 79010.44it/s]\n"
     ]
    }
   ],
   "source": [
    "import csv\n",
    "import json\n",
    "import random\n",
    "from tqdm import tqdm\n",
    "\n",
    "EEVE_template = \"\"\"A chat between a curious user and an artificial intelligence assistant. The assistant gives helpful, detailed, and polite answers to the user's questions.\n",
    "Human: 다음 어려운 말을 쉽게 알려줘.\n",
    "{name}\n",
    "Assistant: {meaning}\"\"\"\n",
    "\n",
    "# CSV 파일 경로\n",
    "csv_files = ['raw_data/crawling_어려운말 쉬운말.csv']\n",
    "\n",
    "# JSONL 파일 경로\n",
    "jsonl_file_path = 'processing_data/easyword-instruct-data.jsonl'\n",
    "\n",
    "# 데이터를 저장할 리스트\n",
    "data = []\n",
    "\n",
    "# CSV 파일에서 데이터 읽기\n",
    "for csv_file_path in csv_files:\n",
    "    with open(csv_file_path, mode='r', encoding='utf-8') as csv_file:\n",
    "        csv_reader = csv.DictReader(csv_file)\n",
    "        for row in csv_reader:\n",
    "            name = row[\"name\"]\n",
    "            meaning = row[\"meaning\"]\n",
    "\n",
    "            # 각 행을 JSON 형식의 딕셔너리로 변환\n",
    "            data.append({\"text\": EEVE_template.format(name=name, meaning=meaning)})\n",
    "\n",
    "# 데이터 무작위로 섞기\n",
    "random.shuffle(data)\n",
    "\n",
    "# JSONL 파일에 데이터를 기록\n",
    "with open(jsonl_file_path, mode='w', encoding='utf-8') as jsonl_file:\n",
    "    # tqdm을 사용하여 진행 상황 표시\n",
    "    for item in tqdm(data, desc=\"Writing to JSONL\"):\n",
    "        json_str = json.dumps(item, ensure_ascii=False)\n",
    "        jsonl_file.write(json_str + '\\n')\n"
   ]
  },
  {
   "cell_type": "markdown",
   "metadata": {},
   "source": [
    "## 2번 데이터 변환"
   ]
  },
  {
   "cell_type": "code",
   "execution_count": 12,
   "metadata": {},
   "outputs": [
    {
     "name": "stderr",
     "output_type": "stream",
     "text": [
      "Writing to JSONL: 100%|██████████| 481/481 [00:00<00:00, 160294.00it/s]\n"
     ]
    }
   ],
   "source": [
    "import csv\n",
    "import json\n",
    "import random\n",
    "from tqdm import tqdm\n",
    "\n",
    "EEVE_template = \"\"\"A chat between a curious user and an artificial intelligence assistant. The assistant gives helpful, detailed, and polite answers to the user's questions.\n",
    "Human: 다음 법률 용어의 뜻을 알려줘.\n",
    "{name}\n",
    "Assistant: {meaning}\"\"\"\n",
    "\n",
    "# CSV 파일 경로\n",
    "csv_files = ['raw_data/crawling_data_1.csv', 'raw_data/crawling_data_2.csv']\n",
    "\n",
    "# JSONL 파일 경로\n",
    "jsonl_file_path = 'processing_data/law-terminology-instruct-data.jsonl'\n",
    "\n",
    "# 데이터를 저장할 리스트\n",
    "data = []\n",
    "\n",
    "# CSV 파일에서 데이터 읽기\n",
    "for csv_file_path in csv_files:\n",
    "    with open(csv_file_path, mode='r', encoding='utf-8') as csv_file:\n",
    "        csv_reader = csv.DictReader(csv_file)\n",
    "        for row in csv_reader:\n",
    "            name = row[\"name\"]\n",
    "            meaning = row[\"meaning\"]\n",
    "\n",
    "            # 각 행을 JSON 형식의 딕셔너리로 변환\n",
    "            data.append({\"text\": EEVE_template.format(name=name, meaning=meaning)})\n",
    "\n",
    "# 데이터 무작위로 섞기\n",
    "random.shuffle(data)\n",
    "\n",
    "# JSONL 파일에 데이터를 기록\n",
    "with open(jsonl_file_path, mode='w', encoding='utf-8') as jsonl_file:\n",
    "    # tqdm을 사용하여 진행 상황 표시\n",
    "    for item in tqdm(data, desc=\"Writing to JSONL\"):\n",
    "        json_str = json.dumps(item, ensure_ascii=False)\n",
    "        jsonl_file.write(json_str + '\\n')\n"
   ]
  },
  {
   "cell_type": "markdown",
   "metadata": {},
   "source": [
    "## 3번 데이터 변환"
   ]
  },
  {
   "cell_type": "code",
   "execution_count": 19,
   "metadata": {},
   "outputs": [
    {
     "name": "stdout",
     "output_type": "stream",
     "text": [
      "0\n"
     ]
    },
    {
     "name": "stderr",
     "output_type": "stream",
     "text": [
      "Writing to JSONL: 100%|██████████| 59860/59860 [00:03<00:00, 16218.19it/s]\n"
     ]
    }
   ],
   "source": [
    "import csv\n",
    "import json\n",
    "import random\n",
    "from tqdm import tqdm\n",
    "\n",
    "csv.field_size_limit(1000000)  # 1MB로 설정, 필요에 따라 조정\n",
    "\n",
    "# 프롬프트는 추후 수정\n",
    "EEVE_template = \"\"\"A chat between a curious user and an artificial intelligence assistant. The assistant gives helpful, detailed, and polite answers to the user's questions.\n",
    "Human: 다음 판결문을 쉽게 바꿔줘. 먼저 법률 용어의 의미를 설명한 뒤, 일반인이 이해할 수 있는 판결문을 제공하고, 초등학생도 이해할 수 있는 쉬운 판결문을 제공해줘.\n",
    "{judgment}\n",
    "Assistant: {easy_judgment}\"\"\"\n",
    "\n",
    "# CSV 파일 경로\n",
    "csv_files = ['raw_data/judgment.csv']\n",
    "\n",
    "# JSONL 파일 경로\n",
    "jsonl_file_path = 'processing_data/easy-judgment-instruct-data.jsonl'\n",
    "\n",
    "# 데이터를 저장할 리스트\n",
    "data = []\n",
    "cnt = 0\n",
    "# CSV 파일에서 데이터 읽기\n",
    "for csv_file_path in csv_files:\n",
    "    with open(csv_file_path, mode='r', encoding='utf-8') as csv_file:\n",
    "        csv_reader = csv.DictReader(csv_file)\n",
    "        for i, row in enumerate(csv_reader):\n",
    "            judgment = row[\"text\"]\n",
    "            if judgment == \"\" or judgment == None:\n",
    "                cnt += 1\n",
    "                if cnt == 1:\n",
    "                    print(row)\n",
    "                    print('data_row:',i)\n",
    "            easy_judgment = row[\"text2\"]\n",
    "\n",
    "            # 각 행을 JSON 형식의 딕셔너리로 변환\n",
    "            data.append({\"text\": EEVE_template.format(judgment=judgment, easy_judgment=easy_judgment)})\n",
    "print(cnt)\n",
    "# 데이터 무작위로 섞기\n",
    "random.shuffle(data)\n",
    "\n",
    "# JSONL 파일에 데이터를 기록\n",
    "with open(jsonl_file_path, mode='w', encoding='utf-8') as jsonl_file:\n",
    "    # tqdm을 사용하여 진행 상황 표시\n",
    "    for item in tqdm(data, desc=\"Writing to JSONL\"):\n",
    "        json_str = json.dumps(item, ensure_ascii=False)\n",
    "        jsonl_file.write(json_str + '\\n')"
   ]
  }
 ],
 "metadata": {
  "kernelspec": {
   "display_name": "easyread",
   "language": "python",
   "name": "python3"
  },
  "language_info": {
   "codemirror_mode": {
    "name": "ipython",
    "version": 3
   },
   "file_extension": ".py",
   "mimetype": "text/x-python",
   "name": "python",
   "nbconvert_exporter": "python",
   "pygments_lexer": "ipython3",
   "version": "3.12.4"
  }
 },
 "nbformat": 4,
 "nbformat_minor": 2
}
